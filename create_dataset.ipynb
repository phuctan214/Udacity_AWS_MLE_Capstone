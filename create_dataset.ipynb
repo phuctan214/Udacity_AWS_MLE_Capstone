{
 "cells": [
  {
   "cell_type": "code",
   "execution_count": null,
   "id": "1d832dce",
   "metadata": {},
   "outputs": [],
   "source": [
    "import os\n",
    "import json\n",
    "import boto3\n",
    "from tqdm import tqdm\n",
    "\n",
    "def download_and_arrange_data():\n",
    "    s3_client = boto3.client('s3')\n",
    "\n",
    "    with open('file_list.json', 'r') as f:\n",
    "        d=json.load(f)\n",
    "\n",
    "    for k, v in d.items():\n",
    "        print(f\"Downloading Images with {k} objects\")\n",
    "        directory=os.path.join('train_data', k)\n",
    "        if not os.path.exists(directory):\n",
    "            os.makedirs(directory)\n",
    "        for file_path in tqdm(v):\n",
    "            file_name=os.path.basename(file_path).split('.')[0]+'.jpg'\n",
    "            s3_client.download_file('aft-vbi-pds', os.path.join('bin-images', file_name),\n",
    "                             os.path.join(directory, file_name))\n",
    "\n",
    "download_and_arrange_data()"
   ]
  },
  {
   "cell_type": "markdown",
   "id": "3ff26589-a033-46b9-ad3a-8cded0a62acf",
   "metadata": {},
   "source": [
    "## Create Test Dataset by using sample 100 images from each subfolder"
   ]
  },
  {
   "cell_type": "code",
   "execution_count": 10,
   "id": "02021591-d34d-4c1a-aa64-0714b1752525",
   "metadata": {
    "tags": []
   },
   "outputs": [
    {
     "name": "stdout",
     "output_type": "stream",
     "text": [
      "['4', '2', '1', '3', '5']\n",
      "Images moved to 'test' folders and removed from source folders successfully.\n"
     ]
    }
   ],
   "source": [
    "import os\n",
    "import random\n",
    "import shutil\n",
    "\n",
    "# Paths\n",
    "source_parent_folder = \"./train_data\"\n",
    "test_parent_folder = \"./dataset/test\"\n",
    "num_images_to_sample = 100\n",
    "\n",
    "# List of subfolder names\n",
    "subfolder_names = os.listdir(source_parent_folder)\n",
    "print(subfolder_names)\n",
    "\n",
    "# Loop through each subfolder\n",
    "for subfolder_name in subfolder_names:\n",
    "    source_subfolder = os.path.join(source_parent_folder, subfolder_name)\n",
    "    test_subfolder = os.path.join(test_parent_folder, subfolder_name)\n",
    "\n",
    "    # Create target subfolder in 'test' folder if it doesn't exist\n",
    "    os.makedirs(test_subfolder, exist_ok=True)\n",
    "\n",
    "    # List all files in the source subfolder\n",
    "    all_files = os.listdir(source_subfolder)\n",
    "    image_files = [file for file in all_files if file.lower().endswith(('.png', '.jpg', '.jpeg'))]\n",
    "\n",
    "    # Randomly sample 100 images\n",
    "    selected_images = random.sample(image_files, num_images_to_sample)\n",
    "\n",
    "    # Move selected images to the test subfolder\n",
    "    for image_name in selected_images:\n",
    "        source_path = os.path.join(source_subfolder, image_name)\n",
    "        target_path = os.path.join(test_subfolder, image_name)\n",
    "        shutil.move(source_path, target_path)\n",
    "\n",
    "    # # Remove moved images from the source subfolder\n",
    "    # for image_name in selected_images:\n",
    "    #     source_path = os.path.join(source_subfolder, image_name)\n",
    "    #     os.remove(source_path)\n",
    "\n",
    "print(\"Images moved to 'test' folders and removed from source folders successfully.\")"
   ]
  },
  {
   "cell_type": "markdown",
   "id": "cf4ee1d7-e580-431f-bd6b-b068a7594316",
   "metadata": {},
   "source": [
    "## Create Train and Val"
   ]
  },
  {
   "cell_type": "code",
   "execution_count": 11,
   "id": "91cf1efa-2286-480a-bb80-829ac383db1d",
   "metadata": {
    "tags": []
   },
   "outputs": [
    {
     "name": "stdout",
     "output_type": "stream",
     "text": [
      "Collecting split-folders\n",
      "  Downloading split_folders-0.5.1-py3-none-any.whl (8.4 kB)\n",
      "Installing collected packages: split-folders\n",
      "Successfully installed split-folders-0.5.1\n"
     ]
    }
   ],
   "source": [
    "!pip install split-folders"
   ]
  },
  {
   "cell_type": "code",
   "execution_count": 12,
   "id": "b8c6de26-1b46-4a26-9f69-55dc64d48b92",
   "metadata": {
    "tags": []
   },
   "outputs": [
    {
     "name": "stderr",
     "output_type": "stream",
     "text": [
      "Copying files: 9941 files [00:02, 4364.33 files/s]\n"
     ]
    }
   ],
   "source": [
    "import splitfolders\n",
    "splitfolders.ratio('./train_data', output=\"./dataset\", seed=1337, ratio=(.8, 0.2))"
   ]
  },
  {
   "cell_type": "code",
   "execution_count": 30,
   "id": "71d3970e-f1f5-4ff2-a47c-074b803eea26",
   "metadata": {
    "tags": []
   },
   "outputs": [],
   "source": [
    "# !aws s3 cp dataset s3://dataset-capstone/ --recursive"
   ]
  }
 ],
 "metadata": {
  "kernelspec": {
   "display_name": "conda_python3",
   "language": "python",
   "name": "conda_python3"
  },
  "language_info": {
   "codemirror_mode": {
    "name": "ipython",
    "version": 3
   },
   "file_extension": ".py",
   "mimetype": "text/x-python",
   "name": "python",
   "nbconvert_exporter": "python",
   "pygments_lexer": "ipython3",
   "version": "3.10.12"
  }
 },
 "nbformat": 4,
 "nbformat_minor": 5
}
